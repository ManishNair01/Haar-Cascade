{
 "cells": [
  {
   "cell_type": "code",
   "execution_count": 1,
   "id": "cdeda6c2",
   "metadata": {},
   "outputs": [],
   "source": [
    "import cv2\n",
    "from matplotlib import pyplot as plt"
   ]
  },
  {
   "cell_type": "code",
   "execution_count": 2,
   "id": "f93dceee",
   "metadata": {},
   "outputs": [],
   "source": [
    "face_cascade = cv2.CascadeClassifier(r\"C:\\Users\\manis\\anaconda3.1\\Lib\\site-packages\\cv2\\data\\haarcascade_frontalface_default.xml\")"
   ]
  },
  {
   "cell_type": "code",
   "execution_count": 3,
   "id": "b52b2d8d",
   "metadata": {},
   "outputs": [],
   "source": [
    "img = cv2.imread('all.jpg')\n",
    "grey = cv2.cvtColor(img, cv2.COLOR_BGR2GRAY)"
   ]
  },
  {
   "cell_type": "code",
   "execution_count": 4,
   "id": "257369d3",
   "metadata": {
    "scrolled": true
   },
   "outputs": [],
   "source": [
    "faces = face_cascade.detectMultiScale(grey,1.3,1)"
   ]
  },
  {
   "cell_type": "code",
   "execution_count": 5,
   "id": "0da6f9f5",
   "metadata": {},
   "outputs": [],
   "source": [
    "for (x,y,w,h) in faces:\n",
    "    img = cv2.rectangle(img,(x,y),(x+w,y+h),(0,255,0),2)\n",
    "    roi_gray = grey[y:y+h, x:x+w]\n",
    "    roi_color = img[y:y+h, x:x+w]"
   ]
  },
  {
   "cell_type": "code",
   "execution_count": null,
   "id": "d6ecde9c",
   "metadata": {},
   "outputs": [],
   "source": [
    "cv2.imshow('img',img)\n",
    "cv2.waitKey(0)\n",
    "cv2.destroyAllWindows()"
   ]
  }
 ],
 "metadata": {
  "kernelspec": {
   "display_name": "Python 3 (ipykernel)",
   "language": "python",
   "name": "python3"
  },
  "language_info": {
   "codemirror_mode": {
    "name": "ipython",
    "version": 3
   },
   "file_extension": ".py",
   "mimetype": "text/x-python",
   "name": "python",
   "nbconvert_exporter": "python",
   "pygments_lexer": "ipython3",
   "version": "3.9.13"
  }
 },
 "nbformat": 4,
 "nbformat_minor": 5
}
